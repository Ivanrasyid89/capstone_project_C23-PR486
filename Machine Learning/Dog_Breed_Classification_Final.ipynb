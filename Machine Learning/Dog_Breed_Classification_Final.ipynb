{
  "cells": [
    {
      "cell_type": "markdown",
      "metadata": {
        "id": "HjxeGNbBnvA8"
      },
      "source": [
        "# Import Libraries"
      ]
    },
    {
      "cell_type": "code",
      "execution_count": 12,
      "metadata": {
        "id": "kNxMI5BXjTFT"
      },
      "outputs": [],
      "source": [
        "# Libraries for data manipulation\n",
        "import pandas as pd\n",
        "import numpy as np\n",
        "\n",
        "# Libraries for deeplearning\n",
        "import tensorflow as tf\n",
        "from tensorflow.keras import backend as K\n",
        "from tensorflow.keras.applications import MobileNet\n",
        "from tensorflow.keras.applications.mobilenet import preprocess_input\n",
        "\n",
        "# Libraries for image processing\n",
        "from tensorflow.keras.preprocessing.image import ImageDataGenerator\n",
        "from tensorflow.keras.preprocessing import image\n",
        "from IPython.display import Image\n",
        "\n",
        "# Libraries for interacting with folder and files\n",
        "import os\n",
        "\n",
        "# Libraries for load json\n",
        "import json"
      ]
    },
    {
      "cell_type": "code",
      "execution_count": 13,
      "metadata": {
        "colab": {
          "base_uri": "https://localhost:8080/"
        },
        "id": "Mbmi2GJFesp3",
        "outputId": "e86b39cf-7e6e-44db-aa39-5a8e16b9e0c4"
      },
      "outputs": [
        {
          "output_type": "stream",
          "name": "stdout",
          "text": [
            "Drive already mounted at /content/drive; to attempt to forcibly remount, call drive.mount(\"/content/drive\", force_remount=True).\n"
          ]
        }
      ],
      "source": [
        "from google.colab import drive\n",
        "drive.mount('/content/drive')"
      ]
    },
    {
      "cell_type": "code",
      "execution_count": 14,
      "metadata": {
        "id": "skx1ISNcmwow"
      },
      "outputs": [],
      "source": [
        "K.clear_session()"
      ]
    },
    {
      "cell_type": "markdown",
      "metadata": {
        "id": "hJ9teOsOfckI"
      },
      "source": [
        "# Check Data"
      ]
    },
    {
      "cell_type": "code",
      "execution_count": 15,
      "metadata": {
        "colab": {
          "base_uri": "https://localhost:8080/",
          "height": 392
        },
        "id": "9lYYN5r8eYmu",
        "outputId": "92e9249c-d0ae-4cfa-f93e-5d474fee385b"
      },
      "outputs": [
        {
          "output_type": "execute_result",
          "data": {
            "image/jpeg": "[encoded data removed]",
            "text/plain": [
              "<IPython.core.display.Image object>"
            ]
          },
          "metadata": {},
          "execution_count": 15
        }
      ],
      "source": [
        "# View one of the images\n",
        "Image('/content/drive/My Drive/Capstone Project/Test Images for Image Recognition Feature/n02085782-Japanese_spaniel/n02085782_1039.jpg')"
      ]
    },
    {
      "cell_type": "markdown",
      "metadata": {
        "id": "TrItZ5ayOPPQ"
      },
      "source": [
        "# Data Manipulation"
      ]
    },
    {
      "cell_type": "code",
      "execution_count": 16,
      "metadata": {
        "colab": {
          "base_uri": "https://localhost:8080/"
        },
        "id": "POfxDGQJKf5J",
        "outputId": "e8a04569-1314-4ee9-a5ea-416fdfe9319a"
      },
      "outputs": [
        {
          "output_type": "execute_result",
          "data": {
            "text/plain": [
              "['Chihuahua',\n",
              " 'Pekinese',\n",
              " 'Maltese_dog',\n",
              " 'Japanese_spaniel',\n",
              " 'Shih-Tzu',\n",
              " 'Blenheim_spaniel',\n",
              " 'papillon',\n",
              " 'toy_terrier',\n",
              " 'Rhodesian_ridgeback',\n",
              " 'Afghan_hound',\n",
              " 'basset',\n",
              " 'beagle',\n",
              " 'bloodhound',\n",
              " 'bluetick',\n",
              " 'black-and-tan_coonhound',\n",
              " 'Walker_hound',\n",
              " 'English_foxhound',\n",
              " 'redbone',\n",
              " 'borzoi',\n",
              " 'Irish_wolfhound']"
            ]
          },
          "metadata": {},
          "execution_count": 16
        }
      ],
      "source": [
        "# Get the list of dogs' breeds\n",
        "folder_path = '/content/drive/MyDrive/Capstone Project/Dogs Images Data/images/Images'\n",
        "breeds_folder_name = os.listdir(folder_path)\n",
        "breeds_name_only = [breed.split('-',1)[1] for breed in breeds_folder_name]\n",
        "breeds_name_only[:20]"
      ]
    },
    {
      "cell_type": "code",
      "execution_count": 17,
      "metadata": {
        "id": "UiqO6FNWLC3l"
      },
      "outputs": [],
      "source": [
        "# Define empty list to contain the images and labels\n",
        "X = []\n",
        "y = []\n",
        "\n",
        "# Define the folder's full path\n",
        "full_paths = [folder_path + '/{}'.format(breed) for breed in breeds_folder_name]\n",
        "\n",
        "# Store img file name and label in X and y\n",
        "for i, path in enumerate(full_paths):\n",
        "  for img in os.listdir(path):\n",
        "    X.append(path + '/' + img)\n",
        "    y.append(breeds_name_only[i])"
      ]
    },
    {
      "cell_type": "code",
      "execution_count": 18,
      "metadata": {
        "id": "kzzbCbSNOaw6"
      },
      "outputs": [],
      "source": [
        "# Shuffle X and y\n",
        "import random\n",
        "\n",
        "img_label_combined = list(zip(X,y))\n",
        "random.shuffle(img_label_combined)\n",
        "X[:], y[:] = zip(*img_label_combined)"
      ]
    },
    {
      "cell_type": "code",
      "execution_count": 19,
      "metadata": {
        "colab": {
          "base_uri": "https://localhost:8080/"
        },
        "id": "-AGBwCnsOteY",
        "outputId": "f744ed41-b7f1-4acb-e3e8-1edcc1b27868"
      },
      "outputs": [
        {
          "output_type": "stream",
          "name": "stdout",
          "text": [
            "The number of data in X: 20583\n",
            "The number of data in y: 20583\n"
          ]
        }
      ],
      "source": [
        "# Check the number of rows in X and y\\\n",
        "print('The number of data in X:', len(X))\n",
        "print('The number of data in y:', len(y))"
      ]
    },
    {
      "cell_type": "code",
      "execution_count": 20,
      "metadata": {
        "id": "iBgF05XrOgg6"
      },
      "outputs": [],
      "source": [
        "# Take a subset of data (10k rows)\n",
        "X = X[:4000]\n",
        "y = y[:4000]"
      ]
    },
    {
      "cell_type": "markdown",
      "metadata": {
        "id": "hIiPWs8nQfOK"
      },
      "source": [
        "# Encode Label"
      ]
    },
    {
      "cell_type": "code",
      "execution_count": 21,
      "metadata": {
        "id": "QuihuUE8QhzF"
      },
      "outputs": [],
      "source": [
        "from sklearn.preprocessing import LabelEncoder\n",
        "\n",
        "# Initialize the LabelEncoder\n",
        "label_encoder = LabelEncoder()\n",
        "\n",
        "# Fit and transform the label data\n",
        "y_ohe = label_encoder.fit_transform(y)"
      ]
    },
    {
      "cell_type": "markdown",
      "metadata": {
        "id": "YZe696q4RG_b"
      },
      "source": [
        "# Prepare Train, Validation, and Test Data"
      ]
    },
    {
      "cell_type": "code",
      "execution_count": 22,
      "metadata": {
        "id": "lTIU6Se4RKOa"
      },
      "outputs": [],
      "source": [
        "from sklearn.model_selection import train_test_split\n",
        "from tensorflow.keras.preprocessing.image import img_to_array, load_img\n",
        "\n",
        "image_data = np.array([img_to_array(load_img(image_file, target_size=(299, 299))) for image_file in X])"
      ]
    },
    {
      "cell_type": "code",
      "execution_count": 23,
      "metadata": {
        "colab": {
          "base_uri": "https://localhost:8080/"
        },
        "id": "nBoOrG6pdtbo",
        "outputId": "de4a03fa-fb96-49db-93d7-ecdbd90d5a9a"
      },
      "outputs": [
        {
          "output_type": "execute_result",
          "data": {
            "text/plain": [
              "167"
            ]
          },
          "metadata": {},
          "execution_count": 23
        }
      ],
      "source": [
        "# Clear some space from the memory\n",
        "import gc\n",
        "del X\n",
        "del y\n",
        "gc.collect()"
      ]
    },
    {
      "cell_type": "code",
      "execution_count": 24,
      "metadata": {
        "id": "FHmZATNGV11F"
      },
      "outputs": [],
      "source": [
        "# Split the image_data into train, validation, and test sets\n",
        "X_train, X_test, y_train, y_test = train_test_split(image_data, y_ohe, test_size=0.1, stratify=np.array(y_ohe), random_state=0)\n",
        "\n",
        "# Clear some space from the memory\n",
        "\n",
        "del image_data\n",
        "gc.collect()\n",
        "\n",
        "X_train, X_val, y_train, y_val = train_test_split(X_train, y_train, test_size=0.1, stratify=np.array(y_train), random_state=0)"
      ]
    },
    {
      "cell_type": "code",
      "execution_count": 25,
      "metadata": {
        "colab": {
          "base_uri": "https://localhost:8080/"
        },
        "id": "upP2tRUXW1Wh",
        "outputId": "68c85fc2-4eff-4b3e-a013-9f3d0b12c478"
      },
      "outputs": [
        {
          "output_type": "stream",
          "name": "stdout",
          "text": [
            "Train Dataset Size:  (3240, 299, 299, 3)\n",
            "Validation Dataset Size:  (360, 299, 299, 3)\n",
            "Test Dataset Size:  (400, 299, 299, 3)\n",
            "Train Label Size:  3240\n",
            "Validation Label Size:  360\n",
            "Test Label Size:  400\n"
          ]
        }
      ],
      "source": [
        "print('Train Dataset Size: ', X_train.shape)\n",
        "print('Validation Dataset Size: ', X_val.shape)\n",
        "print('Test Dataset Size: ', X_test.shape)\n",
        "print('Train Label Size: ', len(y_train))\n",
        "print('Validation Label Size: ', len(y_val))\n",
        "print('Test Label Size: ', len(y_test))"
      ]
    },
    {
      "cell_type": "markdown",
      "metadata": {
        "id": "rGe66nv5m9pJ"
      },
      "source": [
        "# Image Augmentation"
      ]
    },
    {
      "cell_type": "code",
      "execution_count": 26,
      "metadata": {
        "id": "HSWFUa6yjHWH"
      },
      "outputs": [],
      "source": [
        "# Define some hyperparameters\n",
        "batch_size = 32\n",
        "epochs = 20"
      ]
    },
    {
      "cell_type": "code",
      "execution_count": 27,
      "metadata": {
        "id": "MEIP75CJm--Q"
      },
      "outputs": [],
      "source": [
        "from tensorflow.keras.applications.inception_v3 import preprocess_input\n",
        "from tensorflow.keras.preprocessing.image import ImageDataGenerator\n",
        "\n",
        "# Define the train generator and do some image augmentations\n",
        "train_data_generator = ImageDataGenerator(preprocessing_function=preprocess_input,\n",
        "                                          rotation_range=30,\n",
        "                                          width_shift_range=0.2,\n",
        "                                          height_shift_range=0.2,\n",
        "                                          horizontal_flip=True)\n",
        "train_generator = train_data_generator.flow(X_train, y_train, shuffle=False, batch_size=batch_size)\n",
        "\n",
        "# Define the validation generator\n",
        "validation_data_generator = ImageDataGenerator(preprocessing_function=preprocess_input)\n",
        "validation_generator = validation_data_generator.flow(X_val, y_val, shuffle=False, batch_size=batch_size)"
      ]
    },
    {
      "cell_type": "markdown",
      "metadata": {
        "id": "GiTmgoE0f4xX"
      },
      "source": [
        "# Model Training"
      ]
    },
    {
      "cell_type": "code",
      "execution_count": 28,
      "metadata": {
        "id": "hC-ZM9JX5Hsl"
      },
      "outputs": [],
      "source": [
        "K.clear_session()"
      ]
    },
    {
      "cell_type": "code",
      "execution_count": 29,
      "metadata": {
        "colab": {
          "base_uri": "https://localhost:8080/"
        },
        "id": "CmKudjhNe-Mu",
        "outputId": "397e4ebb-d615-40c6-f316-90213f383746"
      },
      "outputs": [
        {
          "output_type": "stream",
          "name": "stdout",
          "text": [
            "Downloading data from https://storage.googleapis.com/tensorflow/keras-applications/inception_v3/inception_v3_weights_tf_dim_ordering_tf_kernels_notop.h5\n",
            "87910968/87910968 [==============================] - 0s 0us/step\n"
          ]
        }
      ],
      "source": [
        "from tensorflow.keras.applications.inception_v3 import InceptionV3\n",
        "from tensorflow.keras.regularizers import l2\n",
        "\n",
        "# Import the Inception V3 original model, but discard the top dense layer for original classification\n",
        "base_model = InceptionV3(weights='imagenet', include_top=False, input_shape=(299,299,3))\n",
        "\n",
        "# Add the additional layers\n",
        "model = tf.keras.Sequential([\n",
        "    base_model,\n",
        "    tf.keras.layers.GlobalAveragePooling2D(),\n",
        "    tf.keras.layers.Dropout(0.3),\n",
        "    tf.keras.layers.Dense(units=1024, activation='relu'),\n",
        "    tf.keras.layers.Dense(units=512, activation='relu'),\n",
        "    tf.keras.layers.Dropout(0.2),\n",
        "    tf.keras.layers.Dense(units=120, activation='softmax')\n",
        "])\n",
        "\n",
        "# Freeze the pretrained Inception V3 layers\n",
        "model.layers[0].trainable = False"
      ]
    },
    {
      "cell_type": "code",
      "execution_count": 30,
      "metadata": {
        "id": "x4VL5Hr7qF7g",
        "colab": {
          "base_uri": "https://localhost:8080/"
        },
        "outputId": "2f8061f9-e5a5-466d-cc83-e9e0c82ab4e0"
      },
      "outputs": [
        {
          "output_type": "stream",
          "name": "stdout",
          "text": [
            "Number of trainable weights after freezing the base layer: 6\n"
          ]
        }
      ],
      "source": [
        "print('Number of trainable weights after freezing the base layer:', len(model.trainable_weights))"
      ]
    },
    {
      "cell_type": "code",
      "execution_count": 31,
      "metadata": {
        "colab": {
          "base_uri": "https://localhost:8080/"
        },
        "id": "qc0ZEMLdjM7x",
        "outputId": "81246da6-086e-477a-a336-4fb28dbb8d3a"
      },
      "outputs": [
        {
          "output_type": "stream",
          "name": "stdout",
          "text": [
            "Model: \"sequential\"\n",
            "_________________________________________________________________\n",
            " Layer (type)                Output Shape              Param #   \n",
            "=================================================================\n",
            " inception_v3 (Functional)   (None, 8, 8, 2048)        21802784  \n",
            "                                                                 \n",
            " global_average_pooling2d (G  (None, 2048)             0         \n",
            " lobalAveragePooling2D)                                          \n",
            "                                                                 \n",
            " dropout (Dropout)           (None, 2048)              0         \n",
            "                                                                 \n",
            " dense (Dense)               (None, 1024)              2098176   \n",
            "                                                                 \n",
            " dense_1 (Dense)             (None, 512)               524800    \n",
            "                                                                 \n",
            " dropout_1 (Dropout)         (None, 512)               0         \n",
            "                                                                 \n",
            " dense_2 (Dense)             (None, 120)               61560     \n",
            "                                                                 \n",
            "=================================================================\n",
            "Total params: 24,487,320\n",
            "Trainable params: 2,684,536\n",
            "Non-trainable params: 21,802,784\n",
            "_________________________________________________________________\n"
          ]
        }
      ],
      "source": [
        "# Compile the model\n",
        "model.compile(optimizer=tf.keras.optimizers.Adam(0.0001), loss='sparse_categorical_crossentropy', metrics=['accuracy'])\n",
        "model.summary()"
      ]
    },
    {
      "cell_type": "code",
      "execution_count": 32,
      "metadata": {
        "colab": {
          "base_uri": "https://localhost:8080/",
          "height": 865
        },
        "id": "olPtUfR2qX3s",
        "outputId": "7e4caf2a-81e8-4a7c-a12c-8b206569ace0"
      },
      "outputs": [
        {
          "output_type": "execute_result",
          "data": {
            "image/png": "[encoded data removed]",
            "text/plain": [
              "<IPython.core.display.Image object>"
            ]
          },
          "metadata": {},
          "execution_count": 32
        }
      ],
      "source": [
        "from tensorflow.keras.utils import plot_model\n",
        "\n",
        "# Plot the model architecture\n",
        "plot_model(model, to_file='inception_model_modified.png', show_shapes=True, show_layer_names=True)"
      ]
    },
    {
      "cell_type": "code",
      "execution_count": 33,
      "metadata": {
        "colab": {
          "base_uri": "https://localhost:8080/"
        },
        "id": "XpawGOD9j6T0",
        "outputId": "929285a6-23b5-4804-b304-b38788f71414"
      },
      "outputs": [
        {
          "output_type": "stream",
          "name": "stderr",
          "text": [
            "<ipython-input-33-4a6a34c5f9eb>:6: UserWarning: `Model.fit_generator` is deprecated and will be removed in a future version. Please use `Model.fit`, which supports generators.\n",
            "  history = model.fit_generator(generator=train_generator,\n"
          ]
        },
        {
          "output_type": "stream",
          "name": "stdout",
          "text": [
            "Epoch 1/20\n",
            "101/101 [==============================] - 91s 749ms/step - loss: 4.3879 - accuracy: 0.1344 - val_loss: 3.4307 - val_accuracy: 0.6136\n",
            "Epoch 2/20\n",
            "101/101 [==============================] - 72s 715ms/step - loss: 2.6807 - accuracy: 0.5221 - val_loss: 1.3871 - val_accuracy: 0.7727\n",
            "Epoch 3/20\n",
            "101/101 [==============================] - 72s 715ms/step - loss: 1.3690 - accuracy: 0.7073 - val_loss: 0.7513 - val_accuracy: 0.8125\n",
            "Epoch 4/20\n",
            "101/101 [==============================] - 75s 739ms/step - loss: 0.9415 - accuracy: 0.7628 - val_loss: 0.5608 - val_accuracy: 0.8551\n",
            "Epoch 5/20\n",
            "101/101 [==============================] - 74s 728ms/step - loss: 0.7776 - accuracy: 0.7905 - val_loss: 0.5001 - val_accuracy: 0.8693\n",
            "Epoch 6/20\n",
            "101/101 [==============================] - 74s 737ms/step - loss: 0.6800 - accuracy: 0.8057 - val_loss: 0.4647 - val_accuracy: 0.8835\n",
            "Epoch 7/20\n",
            "101/101 [==============================] - 73s 723ms/step - loss: 0.6371 - accuracy: 0.8095 - val_loss: 0.4336 - val_accuracy: 0.8778\n",
            "Epoch 8/20\n",
            "101/101 [==============================] - 74s 731ms/step - loss: 0.5874 - accuracy: 0.8295 - val_loss: 0.4216 - val_accuracy: 0.8807\n",
            "Epoch 9/20\n",
            "101/101 [==============================] - 73s 724ms/step - loss: 0.5735 - accuracy: 0.8388 - val_loss: 0.4086 - val_accuracy: 0.8722\n",
            "Epoch 10/20\n",
            "101/101 [==============================] - 73s 723ms/step - loss: 0.5084 - accuracy: 0.8435 - val_loss: 0.3960 - val_accuracy: 0.8722\n",
            "Epoch 11/20\n",
            "101/101 [==============================] - 73s 725ms/step - loss: 0.4914 - accuracy: 0.8491 - val_loss: 0.3986 - val_accuracy: 0.8665\n",
            "Epoch 12/20\n",
            "101/101 [==============================] - 72s 716ms/step - loss: 0.4787 - accuracy: 0.8526 - val_loss: 0.3911 - val_accuracy: 0.8722\n",
            "Epoch 13/20\n",
            "101/101 [==============================] - 72s 711ms/step - loss: 0.4512 - accuracy: 0.8554 - val_loss: 0.3712 - val_accuracy: 0.8835\n",
            "Epoch 14/20\n",
            "101/101 [==============================] - 73s 722ms/step - loss: 0.4346 - accuracy: 0.8660 - val_loss: 0.3986 - val_accuracy: 0.8807\n",
            "Epoch 15/20\n",
            "101/101 [==============================] - 73s 721ms/step - loss: 0.4141 - accuracy: 0.8703 - val_loss: 0.4018 - val_accuracy: 0.8750\n",
            "Epoch 16/20\n",
            "101/101 [==============================] - 72s 704ms/step - loss: 0.3894 - accuracy: 0.8756 - val_loss: 0.3777 - val_accuracy: 0.8778\n",
            "Epoch 17/20\n",
            "101/101 [==============================] - 72s 708ms/step - loss: 0.3985 - accuracy: 0.8731 - val_loss: 0.3917 - val_accuracy: 0.8807\n",
            "Epoch 18/20\n",
            "101/101 [==============================] - 74s 727ms/step - loss: 0.3869 - accuracy: 0.8722 - val_loss: 0.4002 - val_accuracy: 0.8807\n",
            "Epoch 19/20\n",
            "101/101 [==============================] - 72s 713ms/step - loss: 0.3624 - accuracy: 0.8850 - val_loss: 0.3854 - val_accuracy: 0.8864\n",
            "Epoch 20/20\n",
            "101/101 [==============================] - 72s 715ms/step - loss: 0.3601 - accuracy: 0.8850 - val_loss: 0.3934 - val_accuracy: 0.8864\n"
          ]
        }
      ],
      "source": [
        "# Define the step_size to use\n",
        "train_step_size = X_train.shape[0] // batch_size\n",
        "validation_step_size = X_val.shape[0] // batch_size\n",
        "\n",
        "# Train the model\n",
        "history = model.fit_generator(generator=train_generator,\n",
        "                    steps_per_epoch=train_step_size,\n",
        "                    validation_data=validation_generator,\n",
        "                    validation_steps=validation_step_size,\n",
        "                    epochs=epochs)"
      ]
    },
    {
      "cell_type": "markdown",
      "metadata": {
        "id": "GhYwUFTaEz3O"
      },
      "source": [
        "# Model Prediction Results on Test Set"
      ]
    },
    {
      "cell_type": "code",
      "execution_count": 34,
      "metadata": {
        "colab": {
          "base_uri": "https://localhost:8080/"
        },
        "id": "Fyy_IJQbE30T",
        "outputId": "c54ed7a0-2aa9-49fb-e11d-52203feba1f4"
      },
      "outputs": [
        {
          "output_type": "stream",
          "name": "stdout",
          "text": [
            "13/13 [==============================] - 5s 284ms/step\n"
          ]
        }
      ],
      "source": [
        "# Scale the X_test\n",
        "X_test_rescaled = X_test / 255.0\n",
        "\n",
        "# Predictions\n",
        "predictions = model.predict(X_test_rescaled)"
      ]
    },
    {
      "cell_type": "code",
      "execution_count": 36,
      "metadata": {
        "id": "qsFVUeS3FVJm"
      },
      "outputs": [],
      "source": [
        "# Get the highest probability indices for every test data\n",
        "highest_prob_indices = np.argmax(predictions, axis=1)\n",
        "\n",
        "# Inverse transform to get the label name\n",
        "prediction_labels = label_encoder.inverse_transform(highest_prob_indices)\n",
        "\n",
        "# Get the true labels of the test data\n",
        "true_labels = label_encoder.inverse_transform(y_test)"
      ]
    },
    {
      "cell_type": "code",
      "execution_count": 37,
      "metadata": {
        "id": "CvTbVQyEGQJq"
      },
      "outputs": [],
      "source": [
        "# Show the predicted labels and the corresponding true labels side by side in a dataframe\n",
        "df_test_results = pd.DataFrame({'True': true_labels, 'Model Prediction': prediction_labels})"
      ]
    },
    {
      "cell_type": "code",
      "execution_count": 38,
      "metadata": {
        "colab": {
          "base_uri": "https://localhost:8080/",
          "height": 423
        },
        "id": "WxLFPxFrGnRY",
        "outputId": "a7b72837-befa-49bc-b2e5-d8682beddfc4"
      },
      "outputs": [
        {
          "output_type": "execute_result",
          "data": {
            "text/plain": [
              "                            True             Model Prediction\n",
              "0                     Pomeranian                   Pomeranian\n",
              "1                 Border_terrier               Border_terrier\n",
              "2                 cocker_spaniel                 Irish_setter\n",
              "3                 English_setter               English_setter\n",
              "4             Scottish_deerhound           Scottish_deerhound\n",
              "..                           ...                          ...\n",
              "395            Italian_greyhound            Italian_greyhound\n",
              "396                        Lhasa                        Lhasa\n",
              "397    Staffordshire_bullterrier               Great_Pyrenees\n",
              "398  soft-coated_wheaten_terrier  soft-coated_wheaten_terrier\n",
              "399                     bluetick                     bluetick\n",
              "\n",
              "[400 rows x 2 columns]"
            ],
            "text/html": [
              "\n",
              "  <div id=\"df-6fca84f1-a90e-464d-956e-0984f7cef46a\">\n",
              "    <div class=\"colab-df-container\">\n",
              "      <div>\n",
              "<style scoped>\n",
              "    .dataframe tbody tr th:only-of-type {\n",
              "        vertical-align: middle;\n",
              "    }\n",
              "\n",
              "    .dataframe tbody tr th {\n",
              "        vertical-align: top;\n",
              "    }\n",
              "\n",
              "    .dataframe thead th {\n",
              "        text-align: right;\n",
              "    }\n",
              "</style>\n",
              "<table border=\"1\" class=\"dataframe\">\n",
              "  <thead>\n",
              "    <tr style=\"text-align: right;\">\n",
              "      <th></th>\n",
              "      <th>True</th>\n",
              "      <th>Model Prediction</th>\n",
              "    </tr>\n",
              "  </thead>\n",
              "  <tbody>\n",
              "    <tr>\n",
              "      <th>0</th>\n",
              "      <td>Pomeranian</td>\n",
              "      <td>Pomeranian</td>\n",
              "    </tr>\n",
              "    <tr>\n",
              "      <th>1</th>\n",
              "      <td>Border_terrier</td>\n",
              "      <td>Border_terrier</td>\n",
              "    </tr>\n",
              "    <tr>\n",
              "      <th>2</th>\n",
              "      <td>cocker_spaniel</td>\n",
              "      <td>Irish_setter</td>\n",
              "    </tr>\n",
              "    <tr>\n",
              "      <th>3</th>\n",
              "      <td>English_setter</td>\n",
              "      <td>English_setter</td>\n",
              "    </tr>\n",
              "    <tr>\n",
              "      <th>4</th>\n",
              "      <td>Scottish_deerhound</td>\n",
              "      <td>Scottish_deerhound</td>\n",
              "    </tr>\n",
              "    <tr>\n",
              "      <th>...</th>\n",
              "      <td>...</td>\n",
              "      <td>...</td>\n",
              "    </tr>\n",
              "    <tr>\n",
              "      <th>395</th>\n",
              "      <td>Italian_greyhound</td>\n",
              "      <td>Italian_greyhound</td>\n",
              "    </tr>\n",
              "    <tr>\n",
              "      <th>396</th>\n",
              "      <td>Lhasa</td>\n",
              "      <td>Lhasa</td>\n",
              "    </tr>\n",
              "    <tr>\n",
              "      <th>397</th>\n",
              "      <td>Staffordshire_bullterrier</td>\n",
              "      <td>Great_Pyrenees</td>\n",
              "    </tr>\n",
              "    <tr>\n",
              "      <th>398</th>\n",
              "      <td>soft-coated_wheaten_terrier</td>\n",
              "      <td>soft-coated_wheaten_terrier</td>\n",
              "    </tr>\n",
              "    <tr>\n",
              "      <th>399</th>\n",
              "      <td>bluetick</td>\n",
              "      <td>bluetick</td>\n",
              "    </tr>\n",
              "  </tbody>\n",
              "</table>\n",
              "<p>400 rows × 2 columns</p>\n",
              "</div>\n",
              "      <button class=\"colab-df-convert\" onclick=\"convertToInteractive('df-6fca84f1-a90e-464d-956e-0984f7cef46a')\"\n",
              "              title=\"Convert this dataframe to an interactive table.\"\n",
              "              style=\"display:none;\">\n",
              "        \n",
              "  <svg xmlns=\"http://www.w3.org/2000/svg\" height=\"24px\"viewBox=\"0 0 24 24\"\n",
              "       width=\"24px\">\n",
              "    <path d=\"M0 0h24v24H0V0z\" fill=\"none\"/>\n",
              "    <path d=\"M18.56 5.44l.94 2.06.94-2.06 2.06-.94-2.06-.94-.94-2.06-.94 2.06-2.06.94zm-11 1L8.5 8.5l.94-2.06 2.06-.94-2.06-.94L8.5 2.5l-.94 2.06-2.06.94zm10 10l.94 2.06.94-2.06 2.06-.94-2.06-.94-.94-2.06-.94 2.06-2.06.94z\"/><path d=\"M17.41 7.96l-1.37-1.37c-.4-.4-.92-.59-1.43-.59-.52 0-1.04.2-1.43.59L10.3 9.45l-7.72 7.72c-.78.78-.78 2.05 0 2.83L4 21.41c.39.39.9.59 1.41.59.51 0 1.02-.2 1.41-.59l7.78-7.78 2.81-2.81c.8-.78.8-2.07 0-2.86zM5.41 20L4 18.59l7.72-7.72 1.47 1.35L5.41 20z\"/>\n",
              "  </svg>\n",
              "      </button>\n",
              "      \n",
              "  <style>\n",
              "    .colab-df-container {\n",
              "      display:flex;\n",
              "      flex-wrap:wrap;\n",
              "      gap: 12px;\n",
              "    }\n",
              "\n",
              "    .colab-df-convert {\n",
              "      background-color: #E8F0FE;\n",
              "      border: none;\n",
              "      border-radius: 50%;\n",
              "      cursor: pointer;\n",
              "      display: none;\n",
              "      fill: #1967D2;\n",
              "      height: 32px;\n",
              "      padding: 0 0 0 0;\n",
              "      width: 32px;\n",
              "    }\n",
              "\n",
              "    .colab-df-convert:hover {\n",
              "      background-color: #E2EBFA;\n",
              "      box-shadow: 0px 1px 2px rgba(60, 64, 67, 0.3), 0px 1px 3px 1px rgba(60, 64, 67, 0.15);\n",
              "      fill: #174EA6;\n",
              "    }\n",
              "\n",
              "    [theme=dark] .colab-df-convert {\n",
              "      background-color: #3B4455;\n",
              "      fill: #D2E3FC;\n",
              "    }\n",
              "\n",
              "    [theme=dark] .colab-df-convert:hover {\n",
              "      background-color: #434B5C;\n",
              "      box-shadow: 0px 1px 3px 1px rgba(0, 0, 0, 0.15);\n",
              "      filter: drop-shadow(0px 1px 2px rgba(0, 0, 0, 0.3));\n",
              "      fill: #FFFFFF;\n",
              "    }\n",
              "  </style>\n",
              "\n",
              "      <script>\n",
              "        const buttonEl =\n",
              "          document.querySelector('#df-6fca84f1-a90e-464d-956e-0984f7cef46a button.colab-df-convert');\n",
              "        buttonEl.style.display =\n",
              "          google.colab.kernel.accessAllowed ? 'block' : 'none';\n",
              "\n",
              "        async function convertToInteractive(key) {\n",
              "          const element = document.querySelector('#df-6fca84f1-a90e-464d-956e-0984f7cef46a');\n",
              "          const dataTable =\n",
              "            await google.colab.kernel.invokeFunction('convertToInteractive',\n",
              "                                                     [key], {});\n",
              "          if (!dataTable) return;\n",
              "\n",
              "          const docLinkHtml = 'Like what you see? Visit the ' +\n",
              "            '<a target=\"_blank\" href=https://colab.research.google.com/notebooks/data_table.ipynb>data table notebook</a>'\n",
              "            + ' to learn more about interactive tables.';\n",
              "          element.innerHTML = '';\n",
              "          dataTable['output_type'] = 'display_data';\n",
              "          await google.colab.output.renderOutput(dataTable, element);\n",
              "          const docLink = document.createElement('div');\n",
              "          docLink.innerHTML = docLinkHtml;\n",
              "          element.appendChild(docLink);\n",
              "        }\n",
              "      </script>\n",
              "    </div>\n",
              "  </div>\n",
              "  "
            ]
          },
          "metadata": {},
          "execution_count": 38
        }
      ],
      "source": [
        "df_test_results"
      ]
    },
    {
      "cell_type": "code",
      "execution_count": 39,
      "metadata": {
        "colab": {
          "base_uri": "https://localhost:8080/"
        },
        "id": "iXjQEU8fGsBU",
        "outputId": "40b8836d-c904-4031-a409-3f4f22f7f6bd"
      },
      "outputs": [
        {
          "output_type": "stream",
          "name": "stdout",
          "text": [
            "Accuracy: 0.885\n",
            "Precision: 0.8994999999999999\n",
            "Recall: 0.885\n",
            "F1: 0.8799206349206348\n"
          ]
        },
        {
          "output_type": "stream",
          "name": "stderr",
          "text": [
            "/usr/local/lib/python3.10/dist-packages/sklearn/metrics/_classification.py:1344: UndefinedMetricWarning: Precision is ill-defined and being set to 0.0 in labels with no predicted samples. Use `zero_division` parameter to control this behavior.\n",
            "  _warn_prf(average, modifier, msg_start, len(result))\n"
          ]
        }
      ],
      "source": [
        "from sklearn.metrics import accuracy_score, precision_score, recall_score, f1_score\n",
        "\n",
        "# Check the accuracy score on the test set\n",
        "print('Accuracy:', accuracy_score(true_labels, prediction_labels))\n",
        "\n",
        "# Check the precision score on the test set\n",
        "print('Precision:', precision_score(true_labels, prediction_labels, average='weighted'))\n",
        "\n",
        "# Check the recall score on the test set\n",
        "print('Recall:', recall_score(true_labels, prediction_labels, average='weighted'))\n",
        "\n",
        "# Check the f1 score on the test set\n",
        "print('F1:', f1_score(true_labels, prediction_labels, average='weighted'))"
      ]
    },
    {
      "cell_type": "markdown",
      "source": [
        "# Load Model"
      ],
      "metadata": {
        "id": "cvgWjAwgJlpg"
      }
    },
    {
      "cell_type": "code",
      "source": [
        "from tensorflow.keras.models import load_model\n",
        "\n",
        "# Load the model\n",
        "model = load_model('/content/drive/MyDrive/Capstone Project/Model/Dog Breed Classification Model/dog_breed_model_v2.h5')\n",
        "\n",
        "# Load the label map\n",
        "label_encoder_file = open('/content/drive/MyDrive/Capstone Project/Model/Dog Breed Classification Model/dog_breed_label_map.json')\n",
        "label_encoder = json.load(label_encoder_file)"
      ],
      "metadata": {
        "id": "VOOXoFi8JnFD"
      },
      "execution_count": null,
      "outputs": []
    },
    {
      "cell_type": "code",
      "source": [
        "# View the summary of the model\n",
        "model.summary()"
      ],
      "metadata": {
        "colab": {
          "base_uri": "https://localhost:8080/"
        },
        "id": "nVDXFGODJ5Uk",
        "outputId": "1584800f-1d3a-4388-e542-8a44921cc569"
      },
      "execution_count": null,
      "outputs": [
        {
          "output_type": "stream",
          "name": "stdout",
          "text": [
            "Model: \"sequential\"\n",
            "_________________________________________________________________\n",
            " Layer (type)                Output Shape              Param #   \n",
            "=================================================================\n",
            " inception_v3 (Functional)   (None, 8, 8, 2048)        21802784  \n",
            "                                                                 \n",
            " global_average_pooling2d (G  (None, 2048)             0         \n",
            " lobalAveragePooling2D)                                          \n",
            "                                                                 \n",
            " dropout (Dropout)           (None, 2048)              0         \n",
            "                                                                 \n",
            " dense (Dense)               (None, 1024)              2098176   \n",
            "                                                                 \n",
            " dense_1 (Dense)             (None, 512)               524800    \n",
            "                                                                 \n",
            " dropout_1 (Dropout)         (None, 512)               0         \n",
            "                                                                 \n",
            " dense_2 (Dense)             (None, 120)               61560     \n",
            "                                                                 \n",
            "=================================================================\n",
            "Total params: 24,487,320\n",
            "Trainable params: 2,684,536\n",
            "Non-trainable params: 21,802,784\n",
            "_________________________________________________________________\n"
          ]
        }
      ]
    },
    {
      "cell_type": "markdown",
      "source": [
        "# Get the Conversion Dictionary for Labels"
      ],
      "metadata": {
        "id": "KvDMFjjULb71"
      }
    },
    {
      "cell_type": "code",
      "source": [
        "len(label_encoder.classes_)"
      ],
      "metadata": {
        "colab": {
          "base_uri": "https://localhost:8080/"
        },
        "id": "_BCIf73hLyhH",
        "outputId": "d0994e33-6cd8-42b4-ea5d-0588caa518be"
      },
      "execution_count": null,
      "outputs": [
        {
          "output_type": "execute_result",
          "data": {
            "text/plain": [
              "120"
            ]
          },
          "metadata": {},
          "execution_count": 20
        }
      ]
    },
    {
      "cell_type": "code",
      "source": [
        "label_map = {i: label for i, label in enumerate(label_encoder.classes_)}"
      ],
      "metadata": {
        "id": "SAuH7Ii-LbFF"
      },
      "execution_count": null,
      "outputs": []
    },
    {
      "cell_type": "code",
      "source": [
        "len(label_map)"
      ],
      "metadata": {
        "colab": {
          "base_uri": "https://localhost:8080/"
        },
        "id": "KUL2exU8L62o",
        "outputId": "dc3b2132-6f8e-4ed6-c1e8-6e97180ab2a3"
      },
      "execution_count": null,
      "outputs": [
        {
          "output_type": "execute_result",
          "data": {
            "text/plain": [
              "120"
            ]
          },
          "metadata": {},
          "execution_count": 24
        }
      ]
    },
    {
      "cell_type": "markdown",
      "metadata": {
        "id": "i07IPIz-p4r0"
      },
      "source": [
        "# Predictions"
      ]
    },
    {
      "cell_type": "code",
      "execution_count": null,
      "metadata": {
        "id": "etyNW2bzkaLs"
      },
      "outputs": [],
      "source": [
        "def load_image(img_path):\n",
        "  img = image.load_img(img_path, target_size=(299, 299))\n",
        "  img_tensor = image.img_to_array(img)\n",
        "  img_tensor = np.expand_dims(img_tensor, axis=0)\n",
        "  img_tensor = img_tensor / 255.0\n",
        "\n",
        "  return img_tensor"
      ]
    },
    {
      "cell_type": "markdown",
      "source": [
        "## Prediction for First Image"
      ],
      "metadata": {
        "id": "LkJ8ycWvN0VN"
      }
    },
    {
      "cell_type": "code",
      "execution_count": null,
      "metadata": {
        "colab": {
          "base_uri": "https://localhost:8080/"
        },
        "id": "FpQp4oEAqYad",
        "outputId": "648e8a63-d029-418a-eaa4-a86718d4894e"
      },
      "outputs": [
        {
          "output_type": "stream",
          "name": "stdout",
          "text": [
            "1/1 [==============================] - 10s 10s/step\n"
          ]
        }
      ],
      "source": [
        "img_path = '/content/drive/MyDrive/Capstone Project/Chin_posing.jpg'\n",
        "modified_img = load_image(img_path)\n",
        "y_pred = model.predict(modified_img)"
      ]
    },
    {
      "cell_type": "code",
      "execution_count": null,
      "metadata": {
        "id": "il1Qdj13td-O"
      },
      "outputs": [],
      "source": [
        "# Get the predicted class\n",
        "predicted_class_index = np.argmax(y_pred, axis=1)\n",
        "predicted_class_label = label_encoder.inverse_transform(predicted_class_index)"
      ]
    },
    {
      "cell_type": "code",
      "source": [
        "predicted_class_index"
      ],
      "metadata": {
        "colab": {
          "base_uri": "https://localhost:8080/"
        },
        "id": "WKdJtu3vMLE_",
        "outputId": "2a809c9e-8204-404a-aed2-915840f556c9"
      },
      "execution_count": null,
      "outputs": [
        {
          "output_type": "execute_result",
          "data": {
            "text/plain": [
              "array([38])"
            ]
          },
          "metadata": {},
          "execution_count": 26
        }
      ]
    },
    {
      "cell_type": "code",
      "source": [
        "predicted_class_label_2 = label_map[predicted_class_index[0]]"
      ],
      "metadata": {
        "id": "UB0IxUSEMAjN"
      },
      "execution_count": null,
      "outputs": []
    },
    {
      "cell_type": "code",
      "execution_count": null,
      "metadata": {
        "colab": {
          "base_uri": "https://localhost:8080/"
        },
        "id": "RJ6bqLiTsaxS",
        "outputId": "2ad33b3d-a8e9-413b-9642-fd666b216058"
      },
      "outputs": [
        {
          "output_type": "execute_result",
          "data": {
            "text/plain": [
              "array(['Japanese_spaniel'], dtype='<U30')"
            ]
          },
          "metadata": {},
          "execution_count": 17
        }
      ],
      "source": [
        "predicted_class_label"
      ]
    },
    {
      "cell_type": "code",
      "source": [
        "predicted_class_label_2"
      ],
      "metadata": {
        "colab": {
          "base_uri": "https://localhost:8080/",
          "height": 36
        },
        "id": "i_unA5C0MOtk",
        "outputId": "a3ffcc9e-05b4-46c5-98fc-f68d7d1c4a1e"
      },
      "execution_count": null,
      "outputs": [
        {
          "output_type": "execute_result",
          "data": {
            "text/plain": [
              "'Japanese_spaniel'"
            ],
            "application/vnd.google.colaboratory.intrinsic+json": {
              "type": "string"
            }
          },
          "metadata": {},
          "execution_count": 28
        }
      ]
    },
    {
      "cell_type": "markdown",
      "source": [
        "## Prediction for Second Image"
      ],
      "metadata": {
        "id": "gyawXTPYN3M8"
      }
    },
    {
      "cell_type": "code",
      "source": [
        "img_path = '/content/drive/MyDrive/Capstone Project/Italian_Greyhound_standing_gray_(cropped).jpg'\n",
        "modified_img = load_image(img_path)\n",
        "y_pred = model.predict(modified_img)"
      ],
      "metadata": {
        "colab": {
          "base_uri": "https://localhost:8080/"
        },
        "id": "eTi3IDvcN5no",
        "outputId": "b05af1b5-aa15-4e9c-c1f6-5eeccd12751c"
      },
      "execution_count": null,
      "outputs": [
        {
          "output_type": "stream",
          "name": "stdout",
          "text": [
            "1/1 [==============================] - 9s 9s/step\n"
          ]
        }
      ]
    },
    {
      "cell_type": "code",
      "source": [
        "# Get the predicted index\n",
        "predicted_class_index = np.argmax(y_pred, axis=1)"
      ],
      "metadata": {
        "id": "5xv_hf0NOlC6"
      },
      "execution_count": null,
      "outputs": []
    },
    {
      "cell_type": "code",
      "source": [
        "predicted_class_index"
      ],
      "metadata": {
        "colab": {
          "base_uri": "https://localhost:8080/"
        },
        "id": "wkI_Pl5YPET1",
        "outputId": "b7718e62-f049-431b-90ec-41c7b2c918d5"
      },
      "execution_count": null,
      "outputs": [
        {
          "output_type": "execute_result",
          "data": {
            "text/plain": [
              "array([45])"
            ]
          },
          "metadata": {},
          "execution_count": 8
        }
      ]
    },
    {
      "cell_type": "code",
      "source": [
        "# Get the predicted label\n",
        "predicted_class_label = label_encoder[str(predicted_class_index[0])]\n",
        "predicted_class_label"
      ],
      "metadata": {
        "colab": {
          "base_uri": "https://localhost:8080/",
          "height": 36
        },
        "id": "ojqFqJgqOqQY",
        "outputId": "8be8a0b3-58e2-4dcb-9d41-f919309fbb9e"
      },
      "execution_count": null,
      "outputs": [
        {
          "output_type": "execute_result",
          "data": {
            "text/plain": [
              "'Mexican_hairless'"
            ],
            "application/vnd.google.colaboratory.intrinsic+json": {
              "type": "string"
            }
          },
          "metadata": {},
          "execution_count": 9
        }
      ]
    },
    {
      "cell_type": "markdown",
      "source": [
        "# Prediction for Third Image"
      ],
      "metadata": {
        "id": "SrQBu_qhQlmR"
      }
    },
    {
      "cell_type": "code",
      "source": [
        "img_path = '/content/drive/MyDrive/Capstone Project/62f5fd070171b.jpg'\n",
        "modified_img = load_image(img_path)\n",
        "y_pred = model.predict(modified_img)"
      ],
      "metadata": {
        "colab": {
          "base_uri": "https://localhost:8080/"
        },
        "id": "bgd9yTYvQoDF",
        "outputId": "12a57126-2518-40ca-e6fb-6baa309396fa"
      },
      "execution_count": null,
      "outputs": [
        {
          "output_type": "stream",
          "name": "stdout",
          "text": [
            "1/1 [==============================] - 0s 29ms/step\n"
          ]
        }
      ]
    },
    {
      "cell_type": "code",
      "source": [
        "# Get the predicted index\n",
        "predicted_class_index = np.argmax(y_pred, axis=1)"
      ],
      "metadata": {
        "id": "Z0IP5_71Qvi7"
      },
      "execution_count": null,
      "outputs": []
    },
    {
      "cell_type": "code",
      "source": [
        "# Get the predicted label\n",
        "predicted_class_label = label_encoder[str(predicted_class_index[0])]\n",
        "predicted_class_label"
      ],
      "metadata": {
        "colab": {
          "base_uri": "https://localhost:8080/",
          "height": 36
        },
        "id": "fJk_HI4IQ1PK",
        "outputId": "40294daa-7a00-4a6e-d4d1-a772b7289e7a"
      },
      "execution_count": null,
      "outputs": [
        {
          "output_type": "execute_result",
          "data": {
            "text/plain": [
              "'Shih-Tzu'"
            ],
            "application/vnd.google.colaboratory.intrinsic+json": {
              "type": "string"
            }
          },
          "metadata": {},
          "execution_count": 22
        }
      ]
    },
    {
      "cell_type": "markdown",
      "metadata": {
        "id": "n0NS7AezMDUm"
      },
      "source": [
        "# Save Model"
      ]
    },
    {
      "cell_type": "code",
      "execution_count": null,
      "metadata": {
        "id": "Y4ZGe14fMEtx"
      },
      "outputs": [],
      "source": [
        "# H5 format\n",
        "model.save('/content/drive/MyDrive/Capstone Project/Model/Dog Breed Classification Model/dog_breed_model_v2.h5')"
      ]
    },
    {
      "cell_type": "code",
      "execution_count": null,
      "metadata": {
        "colab": {
          "base_uri": "https://localhost:8080/"
        },
        "id": "RfnVewspMYuH",
        "outputId": "1da53c9b-9446-4978-b7f5-4a7e59541f80"
      },
      "outputs": [
        {
          "name": "stderr",
          "output_type": "stream",
          "text": [
            "WARNING:absl:Found untraced functions such as _jit_compiled_convolution_op, _jit_compiled_convolution_op, _jit_compiled_convolution_op, _jit_compiled_convolution_op, _jit_compiled_convolution_op while saving (showing 5 of 94). These functions will not be directly callable after loading.\n"
          ]
        }
      ],
      "source": [
        "# SavedModel format\n",
        "model.save('/content/drive/MyDrive/Capstone Project/Model/Dog Breed Classification Model/saved_model/dog_breed_model_v2')"
      ]
    },
    {
      "cell_type": "code",
      "execution_count": null,
      "metadata": {
        "id": "viC9CWXKT0VD"
      },
      "outputs": [],
      "source": [
        "# Save the label_map dictionary into JSON\n",
        "import json\n",
        "with open('/content/drive/MyDrive/Capstone Project/Model/Dog Breed Classification Model/dog_breed_label_map.json', 'w') as f:\n",
        "  json.dump(label_map, f)"
      ]
    },
    {
      "cell_type": "code",
      "source": [
        "!pip freeze"
      ],
      "metadata": {
        "id": "pt1vyGZDQ-y4",
        "colab": {
          "base_uri": "https://localhost:8080/"
        },
        "outputId": "7cf1c70c-ed60-42ab-ae86-7f068239f21f"
      },
      "execution_count": null,
      "outputs": [
        {
          "output_type": "stream",
          "name": "stdout",
          "text": [
            "absl-py==1.4.0\n",
            "alabaster==0.7.13\n",
            "albumentations==1.2.1\n",
            "altair==4.2.2\n",
            "anyio==3.6.2\n",
            "appdirs==1.4.4\n",
            "argon2-cffi==21.3.0\n",
            "argon2-cffi-bindings==21.2.0\n",
            "array-record==0.2.0\n",
            "arviz==0.15.1\n",
            "astropy==5.2.2\n",
            "astunparse==1.6.3\n",
            "attrs==23.1.0\n",
            "audioread==3.0.0\n",
            "autograd==1.5\n",
            "Babel==2.12.1\n",
            "backcall==0.2.0\n",
            "beautifulsoup4==4.11.2\n",
            "bleach==6.0.0\n",
            "blis==0.7.9\n",
            "blosc2==2.0.0\n",
            "bokeh==2.4.3\n",
            "branca==0.6.0\n",
            "build==0.10.0\n",
            "CacheControl==0.12.11\n",
            "cached-property==1.5.2\n",
            "cachetools==5.3.0\n",
            "catalogue==2.0.8\n",
            "certifi==2022.12.7\n",
            "cffi==1.15.1\n",
            "chardet==4.0.0\n",
            "charset-normalizer==2.0.12\n",
            "chex==0.1.7\n",
            "click==8.1.3\n",
            "cloudpickle==2.2.1\n",
            "cmake==3.25.2\n",
            "cmdstanpy==1.1.0\n",
            "colorcet==3.0.1\n",
            "colorlover==0.3.0\n",
            "community==1.0.0b1\n",
            "confection==0.0.4\n",
            "cons==0.4.5\n",
            "contextlib2==0.6.0.post1\n",
            "contourpy==1.0.7\n",
            "convertdate==2.4.0\n",
            "cryptography==40.0.2\n",
            "cufflinks==0.17.3\n",
            "cupy-cuda11x==11.0.0\n",
            "cvxopt==1.3.0\n",
            "cvxpy==1.3.1\n",
            "cycler==0.11.0\n",
            "cymem==2.0.7\n",
            "Cython==0.29.34\n",
            "dask==2022.12.1\n",
            "datascience==0.17.6\n",
            "db-dtypes==1.1.1\n",
            "dbus-python==1.2.16\n",
            "debugpy==1.6.6\n",
            "decorator==4.4.2\n",
            "defusedxml==0.7.1\n",
            "distributed==2022.12.1\n",
            "dlib==19.24.1\n",
            "dm-tree==0.1.8\n",
            "docutils==0.16\n",
            "dopamine-rl==4.0.6\n",
            "duckdb==0.7.1\n",
            "earthengine-api==0.1.350\n",
            "easydict==1.10\n",
            "ecos==2.0.12\n",
            "editdistance==0.6.2\n",
            "en-core-web-sm @ https://github.com/explosion/spacy-models/releases/download/en_core_web_sm-3.5.0/en_core_web_sm-3.5.0-py3-none-any.whl#sha256=0964370218b7e1672a30ac50d72cdc6b16f7c867496f1d60925691188f4d2510\n",
            "entrypoints==0.4\n",
            "ephem==4.1.4\n",
            "et-xmlfile==1.1.0\n",
            "etils==1.2.0\n",
            "etuples==0.3.8\n",
            "exceptiongroup==1.1.1\n",
            "fastai==2.7.12\n",
            "fastcore==1.5.29\n",
            "fastdownload==0.0.7\n",
            "fastjsonschema==2.16.3\n",
            "fastprogress==1.0.3\n",
            "fastrlock==0.8.1\n",
            "filelock==3.12.0\n",
            "firebase-admin==5.3.0\n",
            "Flask==2.2.4\n",
            "flatbuffers==23.3.3\n",
            "flax==0.6.9\n",
            "folium==0.14.0\n",
            "fonttools==4.39.3\n",
            "frozendict==2.3.7\n",
            "fsspec==2023.4.0\n",
            "future==0.18.3\n",
            "gast==0.4.0\n",
            "GDAL==3.3.2\n",
            "gdown==4.6.6\n",
            "gensim==4.3.1\n",
            "geographiclib==2.0\n",
            "geopy==2.3.0\n",
            "gin-config==0.5.0\n",
            "glob2==0.7\n",
            "google==2.0.3\n",
            "google-api-core==2.11.0\n",
            "google-api-python-client==2.84.0\n",
            "google-auth==2.17.3\n",
            "google-auth-httplib2==0.1.0\n",
            "google-auth-oauthlib==1.0.0\n",
            "google-cloud-bigquery==3.9.0\n",
            "google-cloud-bigquery-storage==2.19.1\n",
            "google-cloud-core==2.3.2\n",
            "google-cloud-datastore==2.15.1\n",
            "google-cloud-firestore==2.11.0\n",
            "google-cloud-language==2.9.1\n",
            "google-cloud-storage==2.8.0\n",
            "google-cloud-translate==3.11.1\n",
            "google-colab @ file:///colabtools/dist/google-colab-1.0.0.tar.gz#sha256=c7cdcf7813816a211a9656528529ef571353bdee1cc8c7b29572a55459e3a081\n",
            "google-crc32c==1.5.0\n",
            "google-pasta==0.2.0\n",
            "google-resumable-media==2.5.0\n",
            "googleapis-common-protos==1.59.0\n",
            "googledrivedownloader==0.4\n",
            "graphviz==0.20.1\n",
            "greenlet==2.0.2\n",
            "grpcio==1.54.0\n",
            "grpcio-status==1.48.2\n",
            "gspread==3.4.2\n",
            "gspread-dataframe==3.0.8\n",
            "gym==0.25.2\n",
            "gym-notices==0.0.8\n",
            "h5netcdf==1.1.0\n",
            "h5py==3.8.0\n",
            "holidays==0.25\n",
            "holoviews==1.15.4\n",
            "html5lib==1.1\n",
            "httpimport==1.3.0\n",
            "httplib2==0.21.0\n",
            "humanize==4.6.0\n",
            "hyperopt==0.2.7\n",
            "idna==3.4\n",
            "imageio==2.25.1\n",
            "imageio-ffmpeg==0.4.8\n",
            "imagesize==1.4.1\n",
            "imbalanced-learn==0.10.1\n",
            "imgaug==0.4.0\n",
            "importlib-resources==5.12.0\n",
            "imutils==0.5.4\n",
            "inflect==6.0.4\n",
            "iniconfig==2.0.0\n",
            "intel-openmp==2023.1.0\n",
            "ipykernel==5.5.6\n",
            "ipython==7.34.0\n",
            "ipython-genutils==0.2.0\n",
            "ipython-sql==0.4.1\n",
            "ipywidgets==7.7.1\n",
            "itsdangerous==2.1.2\n",
            "jax==0.4.10\n",
            "jaxlib @ https://storage.googleapis.com/jax-releases/cuda11/jaxlib-0.4.10+cuda11.cudnn86-cp310-cp310-manylinux2014_x86_64.whl#sha256=fe53205ef12727c80ed5ac2d4506d6732c0c3db69ede4565a7d4df98e609af84\n",
            "jieba==0.42.1\n",
            "Jinja2==3.1.2\n",
            "joblib==1.2.0\n",
            "jsonpickle==3.0.1\n",
            "jsonschema==4.3.3\n",
            "jupyter-client==6.1.12\n",
            "jupyter-console==6.1.0\n",
            "jupyter-server==1.24.0\n",
            "jupyter_core==5.3.0\n",
            "jupyterlab-pygments==0.2.2\n",
            "jupyterlab-widgets==3.0.7\n",
            "kaggle==1.5.13\n",
            "keras==2.12.0\n",
            "kiwisolver==1.4.4\n",
            "korean-lunar-calendar==0.3.1\n",
            "langcodes==3.3.0\n",
            "lazy_loader==0.2\n",
            "libclang==16.0.0\n",
            "librosa==0.10.0.post2\n",
            "lightgbm==3.3.5\n",
            "lit==16.0.5\n",
            "llvmlite==0.39.1\n",
            "locket==1.0.0\n",
            "logical-unification==0.4.5\n",
            "LunarCalendar==0.0.9\n",
            "lxml==4.9.2\n",
            "Markdown==3.4.3\n",
            "markdown-it-py==2.2.0\n",
            "MarkupSafe==2.1.2\n",
            "matplotlib==3.7.1\n",
            "matplotlib-inline==0.1.6\n",
            "matplotlib-venn==0.11.9\n",
            "mdurl==0.1.2\n",
            "miniKanren==1.0.3\n",
            "missingno==0.5.2\n",
            "mistune==0.8.4\n",
            "mizani==0.8.1\n",
            "mkl==2019.0\n",
            "ml-dtypes==0.1.0\n",
            "mlxtend==0.14.0\n",
            "more-itertools==9.1.0\n",
            "moviepy==1.0.3\n",
            "mpmath==1.3.0\n",
            "msgpack==1.0.5\n",
            "multipledispatch==0.6.0\n",
            "multitasking==0.0.11\n",
            "murmurhash==1.0.9\n",
            "music21==8.1.0\n",
            "natsort==8.3.1\n",
            "nbclient==0.7.4\n",
            "nbconvert==6.5.4\n",
            "nbformat==5.8.0\n",
            "nest-asyncio==1.5.6\n",
            "networkx==3.1\n",
            "nibabel==3.0.2\n",
            "nltk==3.8.1\n",
            "notebook==6.4.8\n",
            "numba==0.56.4\n",
            "numexpr==2.8.4\n",
            "numpy==1.22.4\n",
            "oauth2client==4.1.3\n",
            "oauthlib==3.2.2\n",
            "opencv-contrib-python==4.7.0.72\n",
            "opencv-python==4.7.0.72\n",
            "opencv-python-headless==4.7.0.72\n",
            "openpyxl==3.0.10\n",
            "opt-einsum==3.3.0\n",
            "optax==0.1.5\n",
            "orbax-checkpoint==0.2.1\n",
            "osqp==0.6.2.post8\n",
            "packaging==23.1\n",
            "palettable==3.3.3\n",
            "pandas==1.5.3\n",
            "pandas-datareader==0.10.0\n",
            "pandas-gbq==0.17.9\n",
            "pandocfilters==1.5.0\n",
            "panel==0.14.4\n",
            "param==1.13.0\n",
            "parso==0.8.3\n",
            "partd==1.4.0\n",
            "pathlib==1.0.1\n",
            "pathy==0.10.1\n",
            "patsy==0.5.3\n",
            "pexpect==4.8.0\n",
            "pickleshare==0.7.5\n",
            "Pillow==8.4.0\n",
            "pip-tools==6.13.0\n",
            "platformdirs==3.3.0\n",
            "plotly==5.13.1\n",
            "plotnine==0.10.1\n",
            "pluggy==1.0.0\n",
            "polars==0.17.3\n",
            "pooch==1.6.0\n",
            "portpicker==1.3.9\n",
            "prefetch-generator==1.0.3\n",
            "preshed==3.0.8\n",
            "prettytable==0.7.2\n",
            "proglog==0.1.10\n",
            "progressbar2==4.2.0\n",
            "prometheus-client==0.16.0\n",
            "promise==2.3\n",
            "prompt-toolkit==3.0.38\n",
            "prophet==1.1.3\n",
            "proto-plus==1.22.2\n",
            "protobuf==3.20.3\n",
            "psutil==5.9.5\n",
            "psycopg2==2.9.6\n",
            "ptyprocess==0.7.0\n",
            "py-cpuinfo==9.0.0\n",
            "py4j==0.10.9.7\n",
            "pyarrow==9.0.0\n",
            "pyasn1==0.5.0\n",
            "pyasn1-modules==0.3.0\n",
            "pycocotools==2.0.6\n",
            "pycparser==2.21\n",
            "pyct==0.5.0\n",
            "pydantic==1.10.7\n",
            "pydata-google-auth==1.7.0\n",
            "pydot==1.4.2\n",
            "pydot-ng==2.0.0\n",
            "pydotplus==2.0.2\n",
            "PyDrive==1.3.1\n",
            "pyerfa==2.0.0.3\n",
            "pygame==2.3.0\n",
            "Pygments==2.14.0\n",
            "PyGObject==3.36.0\n",
            "pymc==5.1.2\n",
            "PyMeeus==0.5.12\n",
            "pymystem3==0.2.0\n",
            "PyOpenGL==3.1.6\n",
            "pyparsing==3.0.9\n",
            "pyproject_hooks==1.0.0\n",
            "pyrsistent==0.19.3\n",
            "PySocks==1.7.1\n",
            "pytensor==2.10.1\n",
            "pytest==7.2.2\n",
            "python-apt==0.0.0\n",
            "python-dateutil==2.8.2\n",
            "python-louvain==0.16\n",
            "python-slugify==8.0.1\n",
            "python-utils==3.5.2\n",
            "pytz==2022.7.1\n",
            "pytz-deprecation-shim==0.1.0.post0\n",
            "pyviz-comms==2.2.1\n",
            "PyWavelets==1.4.1\n",
            "PyYAML==6.0\n",
            "pyzmq==23.2.1\n",
            "qdldl==0.1.7\n",
            "qudida==0.0.4\n",
            "regex==2022.10.31\n",
            "requests==2.27.1\n",
            "requests-oauthlib==1.3.1\n",
            "requests-unixsocket==0.2.0\n",
            "requirements-parser==0.5.0\n",
            "rich==13.3.4\n",
            "rpy2==3.5.5\n",
            "rsa==4.9\n",
            "scikit-image==0.19.3\n",
            "scikit-learn==1.2.2\n",
            "scipy==1.10.1\n",
            "scs==3.2.3\n",
            "seaborn==0.12.2\n",
            "Send2Trash==1.8.0\n",
            "shapely==2.0.1\n",
            "six==1.16.0\n",
            "sklearn-pandas==2.2.0\n",
            "smart-open==6.3.0\n",
            "sniffio==1.3.0\n",
            "snowballstemmer==2.2.0\n",
            "sortedcontainers==2.4.0\n",
            "soundfile==0.12.1\n",
            "soupsieve==2.4.1\n",
            "soxr==0.3.5\n",
            "spacy==3.5.2\n",
            "spacy-legacy==3.0.12\n",
            "spacy-loggers==1.0.4\n",
            "Sphinx==3.5.4\n",
            "sphinxcontrib-applehelp==1.0.4\n",
            "sphinxcontrib-devhelp==1.0.2\n",
            "sphinxcontrib-htmlhelp==2.0.1\n",
            "sphinxcontrib-jsmath==1.0.1\n",
            "sphinxcontrib-qthelp==1.0.3\n",
            "sphinxcontrib-serializinghtml==1.1.5\n",
            "SQLAlchemy==2.0.10\n",
            "sqlparse==0.4.4\n",
            "srsly==2.4.6\n",
            "statsmodels==0.13.5\n",
            "sympy==1.11.1\n",
            "tables==3.8.0\n",
            "tabulate==0.8.10\n",
            "tblib==1.7.0\n",
            "tenacity==8.2.2\n",
            "tensorboard==2.12.2\n",
            "tensorboard-data-server==0.7.0\n",
            "tensorboard-plugin-wit==1.8.1\n",
            "tensorflow==2.12.0\n",
            "tensorflow-datasets==4.9.2\n",
            "tensorflow-estimator==2.12.0\n",
            "tensorflow-gcs-config==2.12.0\n",
            "tensorflow-hub==0.13.0\n",
            "tensorflow-io-gcs-filesystem==0.32.0\n",
            "tensorflow-metadata==1.13.1\n",
            "tensorflow-probability==0.20.1\n",
            "tensorstore==0.1.36\n",
            "termcolor==2.3.0\n",
            "terminado==0.17.1\n",
            "text-unidecode==1.3\n",
            "textblob==0.17.1\n",
            "tf-slim==1.1.0\n",
            "thinc==8.1.9\n",
            "threadpoolctl==3.1.0\n",
            "tifffile==2023.4.12\n",
            "tinycss2==1.2.1\n",
            "toml==0.10.2\n",
            "tomli==2.0.1\n",
            "toolz==0.12.0\n",
            "torch @ https://download.pytorch.org/whl/cu118/torch-2.0.1%2Bcu118-cp310-cp310-linux_x86_64.whl#sha256=a7a49d459bf4862f64f7bc1a68beccf8881c2fa9f3e0569608e16ba6f85ebf7b\n",
            "torchaudio @ https://download.pytorch.org/whl/cu118/torchaudio-2.0.2%2Bcu118-cp310-cp310-linux_x86_64.whl#sha256=26692645ea061a005c57ec581a2d0425210ac6ba9f923edf11cc9b0ef3a111e9\n",
            "torchdata==0.6.1\n",
            "torchsummary==1.5.1\n",
            "torchtext==0.15.2\n",
            "torchvision @ https://download.pytorch.org/whl/cu118/torchvision-0.15.2%2Bcu118-cp310-cp310-linux_x86_64.whl#sha256=19ca4ab5d6179bbe53cff79df1a855ee6533c2861ddc7389f68349d8b9f8302a\n",
            "tornado==6.3.1\n",
            "tqdm==4.65.0\n",
            "traitlets==5.7.1\n",
            "triton==2.0.0\n",
            "tweepy==4.13.0\n",
            "typer==0.7.0\n",
            "types-setuptools==67.8.0.0\n",
            "typing_extensions==4.5.0\n",
            "tzdata==2023.3\n",
            "tzlocal==4.3\n",
            "uritemplate==4.1.1\n",
            "urllib3==1.26.15\n",
            "vega-datasets==0.9.0\n",
            "wasabi==1.1.1\n",
            "wcwidth==0.2.6\n",
            "webcolors==1.13\n",
            "webencodings==0.5.1\n",
            "websocket-client==1.5.1\n",
            "Werkzeug==2.3.0\n",
            "widgetsnbextension==3.6.4\n",
            "wordcloud==1.8.2.2\n",
            "wrapt==1.14.1\n",
            "xarray==2022.12.0\n",
            "xarray-einstats==0.5.1\n",
            "xgboost==1.7.5\n",
            "xlrd==2.0.1\n",
            "yellowbrick==1.5\n",
            "yfinance==0.2.18\n",
            "zict==3.0.0\n",
            "zipp==3.15.0\n"
          ]
        }
      ]
    },
    {
      "cell_type": "code",
      "source": [
        "!pip freeze > requirements.txt"
      ],
      "metadata": {
        "id": "FUoYdFtk0YSe"
      },
      "execution_count": null,
      "outputs": []
    },
    {
      "cell_type": "code",
      "source": [],
      "metadata": {
        "id": "ocqJnY7j1fMj"
      },
      "execution_count": null,
      "outputs": []
    }
  ],
  "metadata": {
    "accelerator": "GPU",
    "colab": {
      "provenance": [],
      "gpuType": "T4"
    },
    "kernelspec": {
      "display_name": "Python 3",
      "name": "python3"
    },
    "language_info": {
      "name": "python"
    }
  },
  "nbformat": 4,
  "nbformat_minor": 0
}